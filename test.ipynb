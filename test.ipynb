{
 "cells": [
  {
   "cell_type": "code",
   "execution_count": 2,
   "metadata": {},
   "outputs": [
    {
     "name": "stdout",
     "output_type": "stream",
     "text": [
      "Ultralytics 8.3.148 🚀 Python-3.12.1 torch-2.4.0.dev20240529 CPU (Apple M3 Pro)\n",
      "Setup complete ✅ (11 CPUs, 18.0 GB RAM, 427.5/460.4 GB disk)\n"
     ]
    }
   ],
   "source": [
    "import ultralytics\n",
    "import cv2\n",
    "from ultralytics import solutions\n",
    "\n",
    "ultralytics.checks()"
   ]
  },
  {
   "cell_type": "code",
   "execution_count": 3,
   "metadata": {},
   "outputs": [],
   "source": [
    "region_points = [(20, 400), (1080, 400), (1080, 360), (20, 360)]"
   ]
  },
  {
   "cell_type": "code",
   "execution_count": 4,
   "metadata": {},
   "outputs": [
    {
     "name": "stdout",
     "output_type": "stream",
     "text": [
      "2.4.0.dev20240529\n"
     ]
    }
   ],
   "source": [
    "import torch \n",
    "print(torch.__version__)"
   ]
  },
  {
   "cell_type": "code",
   "execution_count": 5,
   "metadata": {},
   "outputs": [
    {
     "name": "stdout",
     "output_type": "stream",
     "text": [
      "Ultralytics Solutions: ✅ {'source': None, 'model': 'yolo11n.pt', 'classes': [0], 'show_conf': True, 'show_labels': True, 'region': [(20, 400), (1080, 400), (1080, 360), (20, 360)], 'colormap': 21, 'show_in': True, 'show_out': True, 'up_angle': 145.0, 'down_angle': 90, 'kpts': [6, 8, 10], 'analytics_type': 'line', 'figsize': (12.8, 7.2), 'blur_ratio': 0.5, 'vision_point': (20, 20), 'crop_dir': 'cropped-detections', 'json_file': None, 'line_width': 2, 'records': 5, 'fps': 30.0, 'max_hist': 5, 'meter_per_pixel': 0.05, 'max_speed': 120, 'show': True, 'iou': 0.7, 'conf': 0.25, 'device': None, 'max_det': 300, 'half': False, 'tracker': 'botsort.yaml', 'verbose': True, 'data': 'images'}\n",
      "Downloading https://github.com/ultralytics/assets/releases/download/v8.3.0/yolo11n.pt to 'yolo11n.pt'...\n"
     ]
    },
    {
     "name": "stderr",
     "output_type": "stream",
     "text": [
      "100%|██████████| 5.35M/5.35M [00:00<00:00, 39.5MB/s]\n"
     ]
    }
   ],
   "source": [
    "# Init ObjectCounter\n",
    "counter = solutions.ObjectCounter(\n",
    "    show=True,  # Display the output\n",
    "    region=region_points,  # Pass region points\n",
    "    model=\"yolo11n.pt\",  # model=\"yolo11n-obb.pt\" for object counting using YOLO11 OBB model.\n",
    "    classes=[0],  # If you want to count specific classes i.e person and car with COCO pretrained model.\n",
    "    show_in=True,  # Display in counts\n",
    "    show_out=True,  # Display out counts\n",
    "    line_width=2,  # Adjust the line width for bounding boxes and text display\n",
    ")"
   ]
  },
  {
   "cell_type": "code",
   "execution_count": 6,
   "metadata": {},
   "outputs": [],
   "source": [
    "cap = cv2.VideoCapture(0)\n",
    "\n",
    "assert cap.isOpened(), \"Error reading video file\"\n",
    "w, h, fps = (int(cap.get(x)) for x in (cv2.CAP_PROP_FRAME_WIDTH,\n",
    "                                       cv2.CAP_PROP_FRAME_HEIGHT,\n",
    "                                       cv2.CAP_PROP_FPS))\n",
    "\n",
    "# # Video writer\n",
    "# video_writer = cv2.VideoWriter(\"counting.avi\",\n",
    "#                                cv2.VideoWriter_fourcc(*\"mp4v\"),\n",
    "#                                fps, (w, h))"
   ]
  },
  {
   "cell_type": "code",
   "execution_count": null,
   "metadata": {},
   "outputs": [
    {
     "name": "stdout",
     "output_type": "stream",
     "text": [
      "0: 1080x1920 31.3ms\n",
      "Speed: 1148.9ms track, 31.3ms solution per image at shape (1, 3, 1080, 1920)\n",
      "\n",
      "1\n",
      "WARNING ⚠️ no tracks found!\n",
      "1: 1080x1920 69.0ms\n",
      "Speed: 67.4ms track, 69.0ms solution per image at shape (1, 3, 1080, 1920)\n",
      "\n",
      "0\n"
     ]
    },
    {
     "name": "stderr",
     "output_type": "stream",
     "text": [
      "2025-06-03 23:48:54.299 Python[36980:30454189] +[IMKClient subclass]: chose IMKClient_Modern\n",
      "2025-06-03 23:48:54.299 Python[36980:30454189] +[IMKInputSession subclass]: chose IMKInputSession_Modern\n"
     ]
    },
    {
     "name": "stdout",
     "output_type": "stream",
     "text": [
      "2: 1080x1920 20.0ms\n",
      "Speed: 51.2ms track, 20.0ms solution per image at shape (1, 3, 1080, 1920)\n",
      "\n",
      "1\n",
      "3: 1080x1920 19.5ms\n",
      "Speed: 56.4ms track, 19.5ms solution per image at shape (1, 3, 1080, 1920)\n",
      "\n",
      "1\n",
      "4: 1080x1920 21.0ms\n",
      "Speed: 60.4ms track, 21.0ms solution per image at shape (1, 3, 1080, 1920)\n",
      "\n",
      "1\n",
      "5: 1080x1920 18.4ms\n",
      "Speed: 58.3ms track, 18.4ms solution per image at shape (1, 3, 1080, 1920)\n",
      "\n",
      "1\n",
      "6: 1080x1920 18.3ms\n",
      "Speed: 54.1ms track, 18.3ms solution per image at shape (1, 3, 1080, 1920)\n",
      "\n",
      "1\n",
      "7: 1080x1920 22.1ms\n",
      "Speed: 74.7ms track, 22.1ms solution per image at shape (1, 3, 1080, 1920)\n",
      "\n",
      "1\n",
      "8: 1080x1920 19.6ms\n",
      "Speed: 64.5ms track, 19.6ms solution per image at shape (1, 3, 1080, 1920)\n",
      "\n",
      "1\n",
      "WARNING ⚠️ no tracks found!\n",
      "9: 1080x1920 19.8ms\n",
      "Speed: 68.1ms track, 19.8ms solution per image at shape (1, 3, 1080, 1920)\n",
      "\n",
      "0\n",
      "WARNING ⚠️ no tracks found!\n",
      "10: 1080x1920 18.7ms\n",
      "Speed: 54.0ms track, 18.7ms solution per image at shape (1, 3, 1080, 1920)\n",
      "\n",
      "0\n",
      "WARNING ⚠️ no tracks found!\n",
      "11: 1080x1920 18.4ms\n",
      "Speed: 38.8ms track, 18.4ms solution per image at shape (1, 3, 1080, 1920)\n",
      "\n",
      "0\n",
      "WARNING ⚠️ no tracks found!\n",
      "12: 1080x1920 18.4ms\n",
      "Speed: 65.4ms track, 18.4ms solution per image at shape (1, 3, 1080, 1920)\n",
      "\n",
      "0\n",
      "13: 1080x1920 17.5ms\n",
      "Speed: 52.0ms track, 17.5ms solution per image at shape (1, 3, 1080, 1920)\n",
      "\n",
      "1\n",
      "14: 1080x1920 17.8ms\n",
      "Speed: 57.1ms track, 17.8ms solution per image at shape (1, 3, 1080, 1920)\n",
      "\n",
      "1\n",
      "15: 1080x1920 18.5ms\n",
      "Speed: 51.6ms track, 18.5ms solution per image at shape (1, 3, 1080, 1920)\n",
      "\n",
      "1\n",
      "16: 1080x1920 17.1ms\n",
      "Speed: 54.5ms track, 17.1ms solution per image at shape (1, 3, 1080, 1920)\n",
      "\n",
      "1\n",
      "17: 1080x1920 17.9ms\n",
      "Speed: 55.1ms track, 17.9ms solution per image at shape (1, 3, 1080, 1920)\n",
      "\n",
      "1\n",
      "18: 1080x1920 17.7ms\n",
      "Speed: 50.7ms track, 17.7ms solution per image at shape (1, 3, 1080, 1920)\n",
      "\n",
      "1\n",
      "19: 1080x1920 36.0ms\n",
      "Speed: 56.2ms track, 36.0ms solution per image at shape (1, 3, 1080, 1920)\n",
      "\n",
      "1\n",
      "20: 1080x1920 18.1ms\n",
      "Speed: 54.4ms track, 18.1ms solution per image at shape (1, 3, 1080, 1920)\n",
      "\n",
      "1\n",
      "21: 1080x1920 17.8ms\n",
      "Speed: 55.8ms track, 17.8ms solution per image at shape (1, 3, 1080, 1920)\n",
      "\n",
      "1\n",
      "22: 1080x1920 17.6ms\n",
      "Speed: 48.2ms track, 17.6ms solution per image at shape (1, 3, 1080, 1920)\n",
      "\n",
      "1\n",
      "23: 1080x1920 18.1ms\n",
      "Speed: 57.1ms track, 18.1ms solution per image at shape (1, 3, 1080, 1920)\n",
      "\n",
      "1\n",
      "24: 1080x1920 17.8ms\n",
      "Speed: 51.9ms track, 17.8ms solution per image at shape (1, 3, 1080, 1920)\n",
      "\n",
      "1\n",
      "25: 1080x1920 18.4ms\n",
      "Speed: 53.5ms track, 18.4ms solution per image at shape (1, 3, 1080, 1920)\n",
      "\n",
      "1\n",
      "26: 1080x1920 17.8ms\n",
      "Speed: 51.8ms track, 17.8ms solution per image at shape (1, 3, 1080, 1920)\n",
      "\n",
      "1\n",
      "27: 1080x1920 17.7ms\n",
      "Speed: 51.3ms track, 17.7ms solution per image at shape (1, 3, 1080, 1920)\n",
      "\n",
      "1\n",
      "28: 1080x1920 17.9ms\n",
      "Speed: 53.7ms track, 17.9ms solution per image at shape (1, 3, 1080, 1920)\n",
      "\n",
      "1\n",
      "29: 1080x1920 18.2ms\n",
      "Speed: 49.8ms track, 18.2ms solution per image at shape (1, 3, 1080, 1920)\n",
      "\n",
      "1\n",
      "30: 1080x1920 18.2ms\n",
      "Speed: 55.2ms track, 18.2ms solution per image at shape (1, 3, 1080, 1920)\n",
      "\n",
      "1\n",
      "31: 1080x1920 19.6ms\n",
      "Speed: 51.6ms track, 19.6ms solution per image at shape (1, 3, 1080, 1920)\n",
      "\n",
      "1\n",
      "32: 1080x1920 20.8ms\n",
      "Speed: 59.9ms track, 20.8ms solution per image at shape (1, 3, 1080, 1920)\n",
      "\n",
      "1\n",
      "33: 1080x1920 19.2ms\n",
      "Speed: 48.2ms track, 19.2ms solution per image at shape (1, 3, 1080, 1920)\n",
      "\n",
      "1\n",
      "34: 1080x1920 18.0ms\n",
      "Speed: 44.3ms track, 18.0ms solution per image at shape (1, 3, 1080, 1920)\n",
      "\n",
      "1\n",
      "35: 1080x1920 19.6ms\n",
      "Speed: 42.9ms track, 19.6ms solution per image at shape (1, 3, 1080, 1920)\n",
      "\n",
      "1\n",
      "36: 1080x1920 23.1ms\n",
      "Speed: 42.3ms track, 23.1ms solution per image at shape (1, 3, 1080, 1920)\n",
      "\n",
      "1\n"
     ]
    },
    {
     "ename": "KeyboardInterrupt",
     "evalue": "",
     "output_type": "error",
     "traceback": [
      "\u001b[0;31m---------------------------------------------------------------------------\u001b[0m",
      "\u001b[0;31mKeyboardInterrupt\u001b[0m                         Traceback (most recent call last)",
      "Cell \u001b[0;32mIn[7], line 26\u001b[0m\n\u001b[1;32m     22\u001b[0m     elapsed_time \u001b[38;5;241m+\u001b[39m\u001b[38;5;241m=\u001b[39m \u001b[38;5;241m1\u001b[39m\n\u001b[1;32m     24\u001b[0m     np\u001b[38;5;241m.\u001b[39msavez_compressed(\u001b[38;5;124m'\u001b[39m\u001b[38;5;124mcounting_data\u001b[39m\u001b[38;5;124m'\u001b[39m, x\u001b[38;5;241m=\u001b[39mcounting_data)\n\u001b[0;32m---> 26\u001b[0m     \u001b[43mtime\u001b[49m\u001b[38;5;241;43m.\u001b[39;49m\u001b[43msleep\u001b[49m\u001b[43m(\u001b[49m\u001b[38;5;241;43m1\u001b[39;49m\u001b[43m)\u001b[49m\n\u001b[1;32m     30\u001b[0m \u001b[38;5;66;03m# cap.release()   # Release the capture\u001b[39;00m\n\u001b[1;32m     31\u001b[0m \u001b[38;5;66;03m# video_writer.release()\u001b[39;00m\n\u001b[1;32m     32\u001b[0m cv2\u001b[38;5;241m.\u001b[39mdestroyAllWindows()\n",
      "\u001b[0;31mKeyboardInterrupt\u001b[0m: "
     ]
    },
    {
     "ename": "",
     "evalue": "",
     "output_type": "error",
     "traceback": [
      "\u001b[1;31mThe Kernel crashed while executing code in the current cell or a previous cell. \n",
      "\u001b[1;31mPlease review the code in the cell(s) to identify a possible cause of the failure. \n",
      "\u001b[1;31mClick <a href='https://aka.ms/vscodeJupyterKernelCrash'>here</a> for more info. \n",
      "\u001b[1;31mView Jupyter <a href='command:jupyter.viewOutput'>log</a> for further details."
     ]
    }
   ],
   "source": [
    "# Process video\n",
    "import time\n",
    "import numpy as np\n",
    "\n",
    "s = time.time()\n",
    "\n",
    "counting_data = np.array([s], dtype=int)\n",
    "elapsed_time = 0\n",
    "\n",
    "while cap.isOpened():\n",
    "    success, im0 = cap.read()\n",
    "    if not success:\n",
    "        print(\"Video frame is empty or video processing has been successfully completed.\")\n",
    "        break\n",
    "    results = counter(im0)  # count the objects\n",
    "    # video_writer.write(results.plot_im)   # write the video frames\n",
    "    \n",
    "    counting_data = np.append(counting_data, [int(elapsed_time), int(results.total_tracks)])\n",
    "    \n",
    "    print(results.total_tracks)\n",
    "    \n",
    "    elapsed_time += 1\n",
    "    \n",
    "    np.savez_compressed('counting_data', x=counting_data)\n",
    "    \n",
    "    time.sleep(1)\n",
    "    \n",
    "    \n",
    "        \n",
    "# cap.release()   # Release the capture\n",
    "# video_writer.release()\n",
    "cv2.destroyAllWindows()"
   ]
  },
  {
   "cell_type": "code",
   "execution_count": null,
   "metadata": {},
   "outputs": [
    {
     "name": "stdout",
     "output_type": "stream",
     "text": [
      "start time : 1748962131\n",
      "[[ 0  1]\n",
      " [ 1  0]\n",
      " [ 2  1]\n",
      " [ 3  1]\n",
      " [ 4  1]\n",
      " [ 5  1]\n",
      " [ 6  1]\n",
      " [ 7  1]\n",
      " [ 8  1]\n",
      " [ 9  0]\n",
      " [10  0]\n",
      " [11  0]\n",
      " [12  0]\n",
      " [13  1]\n",
      " [14  1]\n",
      " [15  1]\n",
      " [16  1]\n",
      " [17  1]\n",
      " [18  1]\n",
      " [19  1]\n",
      " [20  1]\n",
      " [21  1]\n",
      " [22  1]\n",
      " [23  1]\n",
      " [24  1]\n",
      " [25  1]\n",
      " [26  1]\n",
      " [27  1]\n",
      " [28  1]\n",
      " [29  1]\n",
      " [30  1]\n",
      " [31  1]\n",
      " [32  1]\n",
      " [33  1]\n",
      " [34  1]\n",
      " [35  1]\n",
      " [36  1]]\n"
     ]
    }
   ],
   "source": [
    "# # for further analysis after data collection\n",
    "# import numpy as np\n",
    "\n",
    "# data = np.load('counting_data.npz')\n",
    "\n",
    "# print(f'start time : {data['x'][0]}')\n",
    "# print(data['x'][1:].reshape(-1, 2))"
   ]
  },
  {
   "cell_type": "code",
   "execution_count": null,
   "metadata": {},
   "outputs": [
    {
     "name": "stdout",
     "output_type": "stream",
     "text": [
      "4.11.0\n"
     ]
    },
    {
     "ename": "",
     "evalue": "",
     "output_type": "error",
     "traceback": [
      "\u001b[1;31mThe Kernel crashed while executing code in the current cell or a previous cell. \n",
      "\u001b[1;31mPlease review the code in the cell(s) to identify a possible cause of the failure. \n",
      "\u001b[1;31mClick <a href='https://aka.ms/vscodeJupyterKernelCrash'>here</a> for more info. \n",
      "\u001b[1;31mView Jupyter <a href='command:jupyter.viewOutput'>log</a> for further details."
     ]
    }
   ],
   "source": [
    "import cv2\n",
    "\n",
    "print(cv2.__version__)"
   ]
  },
  {
   "cell_type": "code",
   "execution_count": null,
   "metadata": {},
   "outputs": [],
   "source": []
  }
 ],
 "metadata": {
  "kernelspec": {
   "display_name": "Python 3",
   "language": "python",
   "name": "python3"
  },
  "language_info": {
   "codemirror_mode": {
    "name": "ipython",
    "version": 3
   },
   "file_extension": ".py",
   "mimetype": "text/x-python",
   "name": "python",
   "nbconvert_exporter": "python",
   "pygments_lexer": "ipython3",
   "version": "3.12.1"
  }
 },
 "nbformat": 4,
 "nbformat_minor": 2
}
